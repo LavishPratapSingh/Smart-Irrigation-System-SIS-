{
  "cells": [
    {
      "cell_type": "code",
      "execution_count": 71,
      "metadata": {
        "id": "ny9BWDrw10YL"
      },
      "outputs": [],
      "source": [
        "import pandas as pd\n",
        "from sklearn.model_selection import train_test_split\n",
        "from sklearn.neighbors import KNeighborsRegressor\n",
        "from sklearn.metrics import mean_squared_error\n",
        "import joblib"
      ]
    },
    {
      "cell_type": "code",
      "execution_count": 72,
      "metadata": {
        "id": "QP5Kpdvm16fC"
      },
      "outputs": [],
      "source": [
        "# Load the dataset\n",
        "data = pd.read_csv(\"./data/TVC_logger_ 3_betula.csv\")"
      ]
    },
    {
      "cell_type": "code",
      "execution_count": 73,
      "metadata": {
        "id": "kriGPVdX1_fp"
      },
      "outputs": [],
      "source": [
        "# Data Cleaning\n",
        "cleaned_data = data.dropna(subset=['Tsoil.C.hummock', 'Tair.C', 'RH.percent', 'VWC.m3.per.m3.hummock'])\n",
        "cleaned_data.drop(columns=['VWC.m3.per.m3.interhummock'], inplace=True)\n",
        "\n",
        "# Splitting data into features (X) and target (y)\n",
        "X = cleaned_data[['Tsoil.C.hummock', 'Tair.C', 'RH.percent']]\n",
        "y = cleaned_data['VWC.m3.per.m3.hummock']"
      ]
    },
    {
      "cell_type": "code",
      "execution_count": 74,
      "metadata": {
        "colab": {
          "base_uri": "https://localhost:8080/"
        },
        "id": "lHIpIDh02Bel",
        "outputId": "8497d468-50db-4d21-fd1f-f98fe8c4d851"
      },
      "outputs": [
        {
          "name": "stdout",
          "output_type": "stream",
          "text": [
            "Mean Squared Error: 6.12285917869702e-05\n"
          ]
        }
      ],
      "source": [
        "# Splitting data into train and test sets\n",
        "X_train, X_test, y_train, y_test = train_test_split(X, y, test_size=0.2, random_state=42)\n",
        "# Create a KNN regressor object\n",
        "knn_model = KNeighborsRegressor()\n",
        "\n",
        "best_params = {\n",
        "    'n_neighbors': 7,\n",
        "    'weights': 'distance',\n",
        "    'p': 1 \n",
        "}\n",
        "# Train the model with the best hyperparameters\n",
        "best_knn_model = KNeighborsRegressor(**best_params)\n",
        "best_knn_model.fit(X_train, y_train)\n",
        "\n",
        "# Make predictions on the test set\n",
        "y_pred = best_knn_model.predict(X_test)\n",
        "\n",
        "# Save the model to a file\n",
        "joblib.dump(best_knn_model, 'best_knn_model.joblib')\n",
        "\n",
        "# Evaluate the model\n",
        "mse = mean_squared_error(y_test, y_pred)\n",
        "print(\"Mean Squared Error:\", mse)"
      ]
    },
    {
      "cell_type": "code",
      "execution_count": 75,
      "metadata": {},
      "outputs": [
        {
          "name": "stdout",
          "output_type": "stream",
          "text": [
            "\n",
            "Predicted and Actual values for provided inputs:\n",
            "   Actual  Predicted\n",
            "0  0.1368     0.1368\n",
            "1  0.0250     0.0250\n"
          ]
        }
      ],
      "source": [
        "import pandas as pd\n",
        "import joblib\n",
        "\n",
        "# Load the saved model\n",
        "loaded_model = joblib.load('best_knn_model.joblib')\n",
        "\n",
        "# Create a DataFrame with separate input values for testing\n",
        "test_input = pd.DataFrame({\n",
        "    'Tsoil.C.hummock': [11.0269, -5.76],  \n",
        "    'Tair.C': [15.7624, 2.4098],\n",
        "    'RH.percent': [79.46, 92.9]\n",
        "})\n",
        "\n",
        "# Make predictions using the loaded model\n",
        "y_pred_loaded = loaded_model.predict(test_input)\n",
        "\n",
        "# Load the original dataset\n",
        "data = pd.read_csv(\"./data/TVC_logger_ 3_betula.csv\")\n",
        "\n",
        "# Filter the original dataset to get actual values for the provided inputs\n",
        "actual_values = data.loc[(data['Tsoil.C.hummock'].isin(test_input['Tsoil.C.hummock'])) & \n",
        "                         (data['Tair.C'].isin(test_input['Tair.C'])) &\n",
        "                         (data['RH.percent'].isin(test_input['RH.percent'])), 'VWC.m3.per.m3.hummock'].values\n",
        "\n",
        "# Create a DataFrame to display predicted and actual values side by side\n",
        "results_df = pd.DataFrame({'Actual': actual_values, 'Predicted': y_pred_loaded})\n",
        "print(\"\\nPredicted and Actual values for provided inputs:\")\n",
        "print(results_df)\n"
      ]
    },
    {
      "cell_type": "code",
      "execution_count": 76,
      "metadata": {},
      "outputs": [
        {
          "name": "stdout",
          "output_type": "stream",
          "text": [
            "Mean Squared Error: 6.12285917869702e-05\n",
            "R-squared: 0.9787649650270079\n",
            "Number of neighbors: 7\n",
            "Weights used: distance\n",
            "Effective metric: manhattan\n"
          ]
        }
      ],
      "source": [
        "# Print other relevant values\n",
        "mse = mean_squared_error(y_test, y_pred)\n",
        "print(\"Mean Squared Error:\", mse)\n",
        "print(\"R-squared:\", loaded_model.score(X_test, y_test))\n",
        "print(\"Number of neighbors:\", loaded_model.n_neighbors)\n",
        "print(\"Weights used:\", loaded_model.weights)\n",
        "print(\"Effective metric:\", loaded_model.effective_metric_)"
      ]
    },
    {
      "cell_type": "code",
      "execution_count": 77,
      "metadata": {},
      "outputs": [
        {
          "name": "stderr",
          "output_type": "stream",
          "text": [
            "C:\\Users\\Test\\AppData\\Local\\Temp\\ipykernel_18828\\3771061563.py:6: UserWarning: color is redundantly defined by the 'color' keyword argument and the fmt string \"k--\" (-> color='k'). The keyword argument will take precedence.\n",
            "  plt.plot([y_test.min(), y_test.max()], [y_test.min(), y_test.max()], 'k--', lw=2, color='red', label='Perfect Prediction')\n"
          ]
        },
        {
          "data": {
            "image/png": "[encoded data removed]",
            "text/plain": [
              "<Figure size 800x600 with 1 Axes>"
            ]
          },
          "metadata": {},
          "output_type": "display_data"
        }
      ],
      "source": [
        "import matplotlib.pyplot as plt\n",
        "\n",
        "# Plotting actual vs predicted values\n",
        "plt.figure(figsize=(8, 6))\n",
        "plt.scatter(y_test, y_pred, color='blue', label='Actual vs Predicted')\n",
        "plt.plot([y_test.min(), y_test.max()], [y_test.min(), y_test.max()], 'k--', lw=2, color='red', label='Perfect Prediction')\n",
        "plt.xlabel('Actual')\n",
        "plt.ylabel('Predicted')\n",
        "plt.title('Actual vs Predicted Values')\n",
        "plt.legend()\n",
        "plt.show()\n"
      ]
    },
    {
      "cell_type": "code",
      "execution_count": 78,
      "metadata": {},
      "outputs": [
        {
          "name": "stdout",
          "output_type": "stream",
          "text": [
            "Accuracy: 0.9996753999536285\n",
            "Precision: 0.9993509052724472\n",
            "Recall: 0.9996753999536285\n",
            "F1-score: 0.9995131262760163\n"
          ]
        },
        {
          "name": "stderr",
          "output_type": "stream",
          "text": [
            "c:\\Users\\Test\\.conda\\envs\\tf\\lib\\site-packages\\sklearn\\metrics\\_classification.py:1344: UndefinedMetricWarning: Precision is ill-defined and being set to 0.0 in labels with no predicted samples. Use `zero_division` parameter to control this behavior.\n",
            "  _warn_prf(average, modifier, msg_start, len(result))\n"
          ]
        }
      ],
      "source": [
        "import numpy as np\n",
        "from sklearn.metrics import accuracy_score, precision_score, recall_score, f1_score\n",
        "\n",
        "# Define thresholds for categorization\n",
        "threshold_low = 0.2\n",
        "threshold_high = 0.8\n",
        "\n",
        "# Convert predictions into classes\n",
        "y_pred_classes = np.where(y_pred < threshold_low, 0, np.where(y_pred > threshold_high, 2, 1))\n",
        "y_test_classes = np.where(y_test < threshold_low, 0, np.where(y_test > threshold_high, 2, 1))\n",
        "\n",
        "# Calculate classification metrics\n",
        "accuracy = accuracy_score(y_test_classes, y_pred_classes)\n",
        "precision = precision_score(y_test_classes, y_pred_classes, average='weighted')\n",
        "recall = recall_score(y_test_classes, y_pred_classes, average='weighted')\n",
        "f1 = f1_score(y_test_classes, y_pred_classes, average='weighted')\n",
        "\n",
        "# Print classification metrics\n",
        "print(\"Accuracy:\", accuracy)\n",
        "print(\"Precision:\", precision)\n",
        "print(\"Recall:\", recall)\n",
        "print(\"F1-score:\", f1)\n"
      ]
    },
    {
      "cell_type": "code",
      "execution_count": 2,
      "metadata": {},
      "outputs": [
        {
          "name": "stdout",
          "output_type": "stream",
          "text": [
            "Maximum value: 0.2124\n",
            "Minimum value: 0.01501\n"
          ]
        }
      ],
      "source": [
        "import pandas as pd\n",
        "\n",
        "# Read your Excel file into a DataFrame\n",
        "df = pd.read_csv('./data/TVC_logger_ 3_betula.csv')\n",
        "\n",
        "# Assuming 'Column_name' is the name of the column you want to find max and min values for\n",
        "max_value = df['VWC.m3.per.m3.hummock'].max()\n",
        "min_value = df['VWC.m3.per.m3.hummock'].min()\n",
        "\n",
        "print(\"Maximum value:\", max_value)\n",
        "print(\"Minimum value:\", min_value)\n"
      ]
    },
    {
      "cell_type": "code",
      "execution_count": 3,
      "metadata": {},
      "outputs": [
        {
          "ename": "ValueError",
          "evalue": "could not convert string to float: 'Soil'",
          "output_type": "error",
          "traceback": [
            "\u001b[1;31m---------------------------------------------------------------------------\u001b[0m",
            "\u001b[1;31mValueError\u001b[0m                                Traceback (most recent call last)",
            "Cell \u001b[1;32mIn[3], line 23\u001b[0m\n\u001b[0;32m     20\u001b[0m \u001b[38;5;28;01mfor\u001b[39;00m line \u001b[38;5;129;01min\u001b[39;00m arduino_output\u001b[38;5;241m.\u001b[39mstrip()\u001b[38;5;241m.\u001b[39msplit(\u001b[38;5;124m'\u001b[39m\u001b[38;5;130;01m\\n\u001b[39;00m\u001b[38;5;124m'\u001b[39m):\n\u001b[0;32m     21\u001b[0m     line \u001b[38;5;241m=\u001b[39m line\u001b[38;5;241m.\u001b[39mstrip()\u001b[38;5;241m.\u001b[39mreplace(\u001b[38;5;124m'\u001b[39m\u001b[38;5;124m,\u001b[39m\u001b[38;5;124m'\u001b[39m, \u001b[38;5;124m'\u001b[39m\u001b[38;5;124m'\u001b[39m)\u001b[38;5;241m.\u001b[39msplit()\n\u001b[0;32m     22\u001b[0m     values \u001b[38;5;241m=\u001b[39m {\n\u001b[1;32m---> 23\u001b[0m         \u001b[38;5;124m'\u001b[39m\u001b[38;5;124mTsoil.C.hummock\u001b[39m\u001b[38;5;124m'\u001b[39m: \u001b[38;5;28;43mfloat\u001b[39;49m\u001b[43m(\u001b[49m\u001b[43mline\u001b[49m\u001b[43m[\u001b[49m\u001b[38;5;241;43m11\u001b[39;49m\u001b[43m]\u001b[49m\u001b[43m)\u001b[49m,  \n\u001b[0;32m     24\u001b[0m         \u001b[38;5;124m'\u001b[39m\u001b[38;5;124mTair.C\u001b[39m\u001b[38;5;124m'\u001b[39m: \u001b[38;5;28mfloat\u001b[39m(line[\u001b[38;5;241m8\u001b[39m]),\n\u001b[0;32m     25\u001b[0m         \u001b[38;5;124m'\u001b[39m\u001b[38;5;124mRH.percent\u001b[39m\u001b[38;5;124m'\u001b[39m: \u001b[38;5;28mfloat\u001b[39m(line[\u001b[38;5;241m5\u001b[39m])\n\u001b[0;32m     26\u001b[0m     }\n\u001b[0;32m     27\u001b[0m     data\u001b[38;5;241m.\u001b[39mappend(values)\n\u001b[0;32m     28\u001b[0m \u001b[38;5;66;03m# x=\"'Soil_Moisture': float(line[2])\"\u001b[39;00m\n",
            "\u001b[1;31mValueError\u001b[0m: could not convert string to float: 'Soil'"
          ]
        }
      ],
      "source": [
        "import pandas as pd\n",
        "import joblib\n",
        "data = []\n",
        "for line in arduino_output.strip().split('\\n'):\n",
        "    line = line.strip().replace(',', '').split()\n",
        "    values = {\n",
        "        'Tsoil.C.hummock': float(line[11]),  \n",
        "        'Tair.C': float(line[8]),\n",
        "        'RH.percent': float(line[5])\n",
        "    }\n",
        "    data.append(values)\n",
        "# x=\"'Soil_Moisture': float(line[2])\"\n",
        "df = pd.DataFrame(data)\n",
        "\n",
        "# Load the saved model\n",
        "loaded_model = joblib.load('best_knn_model.joblib')\n",
        "\n",
        "# Make predictions using the loaded model\n",
        "y_pred_loaded = loaded_model.predict(df)\n",
        "\n",
        "print(\"Predictions:\", y_pred_loaded)\n"
      ]
    },
    {
      "cell_type": "code",
      "execution_count": 2,
      "metadata": {},
      "outputs": [
        {
          "name": "stdout",
          "output_type": "stream",
          "text": [
            "Serial port opened\n",
            "Actual: 0.0686353  Predictions: 0.13692\n",
            "Irrigate\n",
            "Actual: 0.0686353  Predictions: 0.13669\n",
            "Irrigate\n",
            "Actual: 0.0686353  Predictions: 0.13687\n",
            "Irrigate\n",
            "Actual: 0.0699059  Predictions: 0.13672\n",
            "Irrigate\n",
            "Actual: 0.0699059  Predictions: 0.13668\n",
            "Irrigate\n",
            "Actual: 0.0673647  Predictions: 0.13657\n",
            "Irrigate\n",
            "Actual: 0.0699059  Predictions: 0.13686\n",
            "Irrigate\n",
            "Actual: 0.0686353  Predictions: 0.13669\n",
            "Irrigate\n",
            "Actual: 0.0686353  Predictions: 0.13688\n",
            "Irrigate\n",
            "Actual: 0.0699059  Predictions: 0.13669\n",
            "Irrigate\n",
            "Actual: 0.0686353  Predictions: 0.13688\n",
            "Irrigate\n",
            "Actual: 0.0673647  Predictions: 0.13686\n",
            "Irrigate\n",
            "Actual: 0.0686353  Predictions: 0.13671\n",
            "Irrigate\n",
            "Actual: 0.0673647  Predictions: 0.13671\n",
            "Irrigate\n",
            "Actual: 0.0699059  Predictions: 0.13686\n",
            "Irrigate\n",
            "Actual: 0.0673647  Predictions: 0.13693\n",
            "Irrigate\n",
            "Actual: 0.0673647  Predictions: 0.13672\n",
            "Irrigate\n",
            "Actual: 0.0686353  Predictions: 0.13689\n",
            "Irrigate\n",
            "Actual: 0.0686353  Predictions: 0.13688\n",
            "Irrigate\n",
            "Serial port closed\n"
          ]
        },
        {
          "ename": "KeyboardInterrupt",
          "evalue": "",
          "output_type": "error",
          "traceback": [
            "\u001b[1;31m---------------------------------------------------------------------------\u001b[0m",
            "\u001b[1;31mKeyboardInterrupt\u001b[0m                         Traceback (most recent call last)",
            "Cell \u001b[1;32mIn[2], line 8\u001b[0m\n\u001b[0;32m      6\u001b[0m \u001b[38;5;28;01mtry\u001b[39;00m:\n\u001b[0;32m      7\u001b[0m     \u001b[38;5;28;01mwhile\u001b[39;00m \u001b[38;5;28;01mTrue\u001b[39;00m:\n\u001b[1;32m----> 8\u001b[0m         \u001b[38;5;28;01mif\u001b[39;00m \u001b[43mser\u001b[49m\u001b[38;5;241;43m.\u001b[39;49m\u001b[43min_waiting\u001b[49m \u001b[38;5;241m>\u001b[39m \u001b[38;5;241m0\u001b[39m:\n\u001b[0;32m      9\u001b[0m             data \u001b[38;5;241m=\u001b[39m ser\u001b[38;5;241m.\u001b[39mreadline()\u001b[38;5;241m.\u001b[39mdecode()\u001b[38;5;241m.\u001b[39mstrip()\n\u001b[0;32m     10\u001b[0m             soil_moisture \u001b[38;5;241m=\u001b[39m \u001b[38;5;28;01mNone\u001b[39;00m\n",
            "File \u001b[1;32mc:\\Users\\Test\\.conda\\envs\\tf\\lib\\site-packages\\serial\\serialwin32.py:258\u001b[0m, in \u001b[0;36mSerial.in_waiting\u001b[1;34m(self)\u001b[0m\n\u001b[0;32m    256\u001b[0m flags \u001b[38;5;241m=\u001b[39m win32\u001b[38;5;241m.\u001b[39mDWORD()\n\u001b[0;32m    257\u001b[0m comstat \u001b[38;5;241m=\u001b[39m win32\u001b[38;5;241m.\u001b[39mCOMSTAT()\n\u001b[1;32m--> 258\u001b[0m \u001b[38;5;28;01mif\u001b[39;00m \u001b[38;5;129;01mnot\u001b[39;00m \u001b[43mwin32\u001b[49m\u001b[38;5;241;43m.\u001b[39;49m\u001b[43mClearCommError\u001b[49m\u001b[43m(\u001b[49m\u001b[38;5;28;43mself\u001b[39;49m\u001b[38;5;241;43m.\u001b[39;49m\u001b[43m_port_handle\u001b[49m\u001b[43m,\u001b[49m\u001b[43m \u001b[49m\u001b[43mctypes\u001b[49m\u001b[38;5;241;43m.\u001b[39;49m\u001b[43mbyref\u001b[49m\u001b[43m(\u001b[49m\u001b[43mflags\u001b[49m\u001b[43m)\u001b[49m\u001b[43m,\u001b[49m\u001b[43m \u001b[49m\u001b[43mctypes\u001b[49m\u001b[38;5;241;43m.\u001b[39;49m\u001b[43mbyref\u001b[49m\u001b[43m(\u001b[49m\u001b[43mcomstat\u001b[49m\u001b[43m)\u001b[49m\u001b[43m)\u001b[49m:\n\u001b[0;32m    259\u001b[0m     \u001b[38;5;28;01mraise\u001b[39;00m SerialException(\u001b[38;5;124m\"\u001b[39m\u001b[38;5;124mClearCommError failed (\u001b[39m\u001b[38;5;132;01m{!r}\u001b[39;00m\u001b[38;5;124m)\u001b[39m\u001b[38;5;124m\"\u001b[39m\u001b[38;5;241m.\u001b[39mformat(ctypes\u001b[38;5;241m.\u001b[39mWinError()))\n\u001b[0;32m    260\u001b[0m \u001b[38;5;28;01mreturn\u001b[39;00m comstat\u001b[38;5;241m.\u001b[39mcbInQue\n",
            "\u001b[1;31mKeyboardInterrupt\u001b[0m: "
          ]
        }
      ],
      "source": [
        "import serial\n",
        "import joblib\n",
        "import pandas as pd\n",
        "ser = serial.Serial('COM7', 9600)\n",
        "print(\"Serial port opened\")\n",
        "try:\n",
        "    while True:\n",
        "        if ser.in_waiting > 0:\n",
        "            data = ser.readline().decode().strip()\n",
        "            soil_moisture = None\n",
        "            air_rel_humidity = None\n",
        "            air_temp_celsius = None\n",
        "            soil_temp_celsius = None\n",
        "            values = data.split(',')\n",
        "            for value in values:\n",
        "                key, numeric_part = value.split(':')\n",
        "                key = key.strip()\n",
        "                numeric_part = numeric_part.strip()\n",
        "    \n",
        "                if key == 'Soil Moisture':\n",
        "                    soil_moisture = float(numeric_part)\n",
        "                elif key == 'Air Rel Humi':\n",
        "                    air_rel_humidity = float(numeric_part)\n",
        "                elif key == 'Air Celcius Temp':\n",
        "                    air_temp_celsius = float(numeric_part)\n",
        "                elif key == 'Soil Celsius temperature':\n",
        "                    soil_temp_celsius = float(numeric_part)\n",
        "\n",
        "            values = {\n",
        "                        'Tsoil.C.hummock': soil_temp_celsius,  \n",
        "                        'Tair.C': air_temp_celsius,\n",
        "                        'RH.percent': air_rel_humidity\n",
        "                    }\n",
        "            input=[]\n",
        "            input.append(values)\n",
        "            df = pd.DataFrame(input)\n",
        "            loaded_model = joblib.load('best_knn_model.joblib')\n",
        "            y_pred_loaded = loaded_model.predict(df)\n",
        "            print(f\"Actual: {soil_moisture:}  Predictions: {y_pred_loaded[0]:.{5}f}\")\n",
        "            if soil_moisture<y_pred_loaded[0]:\n",
        "                print(\"Irrigate\")\n",
        "            else:\n",
        "                print(\"Stop irrigating\")\n",
        "            # Print the extracted values\n",
        "            # print(\"Soil Moisture:\", soil_moisture)\n",
        "            # print(\"Air Relative Humidity:\", air_rel_humidity)\n",
        "            # print(\"Air Celsius Temperature:\", air_temp_celsius)\n",
        "            # print(\"Soil Celsius Temperature:\", soil_temp_celsius)\n",
        "    \n",
        "finally:\n",
        "    ser.close()\n",
        "    print(\"Serial port closed\")\n"
      ]
    },
    {
      "cell_type": "code",
      "execution_count": null,
      "metadata": {},
      "outputs": [],
      "source": []
    }
  ],
  "metadata": {
    "colab": {
      "provenance": []
    },
    "kernelspec": {
      "display_name": "Python 3",
      "name": "python3"
    },
    "language_info": {
      "codemirror_mode": {
        "name": "ipython",
        "version": 3
      },
      "file_extension": ".py",
      "mimetype": "text/x-python",
      "name": "python",
      "nbconvert_exporter": "python",
      "pygments_lexer": "ipython3",
      "version": "3.9.16"
    }
  },
  "nbformat": 4,
  "nbformat_minor": 0
}
